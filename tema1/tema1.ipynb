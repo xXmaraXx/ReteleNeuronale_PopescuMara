{
 "cells": [
  {
   "metadata": {},
   "cell_type": "markdown",
   "source": "1. Parsing the System of Equations",
   "id": "15a622df919d3a08"
  },
  {
   "cell_type": "code",
   "id": "initial_id",
   "metadata": {
    "collapsed": true,
    "ExecuteTime": {
     "end_time": "2024-10-13T16:55:06.973807Z",
     "start_time": "2024-10-13T16:55:06.934220Z"
    }
   },
   "source": [
    "def parse_equations(file_path):\n",
    "    A = [] \n",
    "    B = []  \n",
    "\n",
    "    with open(file_path, 'r') as file:\n",
    "        for line_number, line in enumerate(file, start=1):\n",
    "            try:\n",
    "                lhs, rhs = line.strip().split('=')\n",
    "            except ValueError:\n",
    "                print(f\"Error parsing line {line_number}: '{line.strip()}'. Ensure it contains exactly one '=' sign.\")\n",
    "                continue  \n",
    "\n",
    "            rhs = rhs.strip()\n",
    "            try:\n",
    "                B.append(float(rhs))\n",
    "            except ValueError:\n",
    "                print(f\"Error converting RHS to float on line {line_number}: '{rhs}'.\")\n",
    "                continue  \n",
    "\n",
    "            \n",
    "            coeffs = {'x': 0.0, 'y': 0.0, 'z': 0.0}\n",
    "\n",
    "            lhs_modified = lhs.replace('-', '+-')\n",
    "            terms = lhs_modified.split('+')\n",
    "\n",
    "            for term in terms:\n",
    "                term = term.strip()  \n",
    "                if not term:\n",
    "                    continue  \n",
    "\n",
    "                if 'x' in term:\n",
    "                    var = 'x'\n",
    "                elif 'y' in term:\n",
    "                    var = 'y'\n",
    "                elif 'z' in term:\n",
    "                    var = 'z'\n",
    "                else:\n",
    "                    print(f\"Warning: Unrecognized variable in term '{term}' on line {line_number}. Skipping term.\")\n",
    "                    continue \n",
    "\n",
    "                coeff_str = term.replace(var, '').strip()\n",
    "\n",
    "                # print(f\"Processing term '{term}': extracted coefficient string '{coeff_str}'\")\n",
    "\n",
    "                if coeff_str in ['', '+']:\n",
    "                    coefficient = 1.0\n",
    "                elif coeff_str == '-':\n",
    "                    coefficient = -1.0\n",
    "                else:\n",
    "                    try:\n",
    "                        coefficient = float(coeff_str)\n",
    "                    except ValueError:\n",
    "                        print(f\"Error converting coefficient to float in term '{term}' on line {line_number}.\")\n",
    "                        coefficient = 0.0  \n",
    "\n",
    "                coeffs[var] = coefficient\n",
    "\n",
    "            A.append([coeffs['x'], coeffs['y'], coeffs['z']])\n",
    "\n",
    "    return A, B\n",
    "\n",
    "if __name__ == \"__main__\":\n",
    "    file_path = 'equations.txt'\n",
    "    A, B = parse_equations(file_path)\n",
    "\n",
    "    print(\"Matrix A:\")\n",
    "    for row in A:\n",
    "        print(row)\n",
    "\n",
    "    print(\"\\nVector B:\")\n",
    "    print(B)\n"
   ],
   "outputs": [
    {
     "name": "stdout",
     "output_type": "stream",
     "text": [
      "Matrix A:\n",
      "[2.0, 3.0, -1.0]\n",
      "[1.0, -1.0, 4.0]\n",
      "[3.0, 1.0, 2.0]\n",
      "\n",
      "Vector B:\n",
      "[5.0, 6.0, 7.0]\n"
     ]
    }
   ],
   "execution_count": 1
  },
  {
   "metadata": {},
   "cell_type": "markdown",
   "source": "2. Matrix and Vector Operations",
   "id": "2c4aa655cf63115d"
  },
  {
   "metadata": {},
   "cell_type": "markdown",
   "source": "2.1. Determinant:",
   "id": "5c44e172ab00995a"
  },
  {
   "metadata": {
    "ExecuteTime": {
     "end_time": "2024-10-11T17:56:33.859043Z",
     "start_time": "2024-10-11T17:56:33.842141Z"
    }
   },
   "cell_type": "code",
   "source": [
    "def determinant_3X3(matrix):\n",
    "    if len(matrix) != 3 or any(len(row) != 3 for row in matrix):\n",
    "        raise ValueError(\"Matrix must be 3x3.\")\n",
    "    \n",
    "    a11, a12, a13 = matrix[0]\n",
    "    a21, a22, a23 = matrix[1]\n",
    "    a31, a32, a33 = matrix[2]\n",
    "    \n",
    "    det = (a11 * (a22 * a33 - a23 * a32)-\n",
    "           a12 *(a21 * a33 - a23 * a31)+\n",
    "           a13 *(a21 * a32 - a22 * a31))\n",
    "    return det\n",
    "\n",
    "\n",
    "print(determinant_3X3(A))"
   ],
   "id": "775e9b0517c436e2",
   "outputs": [
    {
     "name": "stdout",
     "output_type": "stream",
     "text": [
      "14.0\n"
     ]
    }
   ],
   "execution_count": 2
  },
  {
   "metadata": {},
   "cell_type": "markdown",
   "source": "2.2. Trace",
   "id": "b6e89ebf9999d974"
  },
  {
   "metadata": {
    "ExecuteTime": {
     "end_time": "2024-10-11T17:56:35.773034Z",
     "start_time": "2024-10-11T17:56:35.768961Z"
    }
   },
   "cell_type": "code",
   "source": [
    "def trace(matrix):\n",
    "    return matrix[0][0] + matrix[1][1] + matrix[2][2]\n",
    "\n",
    "\n",
    "print(trace(A))"
   ],
   "id": "a2f7c489a2683baf",
   "outputs": [
    {
     "name": "stdout",
     "output_type": "stream",
     "text": [
      "3.0\n"
     ]
    }
   ],
   "execution_count": 3
  },
  {
   "metadata": {},
   "cell_type": "markdown",
   "source": "2.3. Vector norm",
   "id": "1f27742ff2207f13"
  },
  {
   "metadata": {
    "ExecuteTime": {
     "end_time": "2024-10-11T17:56:37.526133Z",
     "start_time": "2024-10-11T17:56:37.522005Z"
    }
   },
   "cell_type": "code",
   "source": [
    "def vector_norm(vector):\n",
    "    if len(vector) != 3:\n",
    "         raise ValueError(\"Vector must be of length 3.\")\n",
    "    return (vector[0]**2 + vector[1]**2 + vector[2]**2)**0.5\n",
    "\n",
    "print(vector_norm(B))"
   ],
   "id": "9ea692de49273298",
   "outputs": [
    {
     "name": "stdout",
     "output_type": "stream",
     "text": [
      "10.488088481701515\n"
     ]
    }
   ],
   "execution_count": 4
  },
  {
   "metadata": {},
   "cell_type": "markdown",
   "source": "2.4. Transpose of matrix",
   "id": "74219e8b600570dd"
  },
  {
   "metadata": {
    "ExecuteTime": {
     "end_time": "2024-10-11T17:56:38.970534Z",
     "start_time": "2024-10-11T17:56:38.962248Z"
    }
   },
   "cell_type": "code",
   "source": [
    "def transpose_of_matrix(matrix):\n",
    "    if len(matrix) != 3 or any(len(row) != 3 for row in matrix):\n",
    "        raise ValueError(\"Matrix must be 3x3.\")\n",
    "    \n",
    "    num_rows = len(matrix)\n",
    "    num_cols = len(matrix[0])\n",
    "    \n",
    "    transposed_matrix = []\n",
    "    for i in range(num_rows):\n",
    "        transposed_row = []\n",
    "        for j in range(num_cols):\n",
    "            transposed_row.append(matrix[j][i])\n",
    "        transposed_matrix.append(transposed_row)\n",
    "    \n",
    "    return transposed_matrix\n",
    "\n",
    "\n",
    "transposed_A = transpose_of_matrix(A)\n",
    "for row in transposed_A:\n",
    "    print(row)"
   ],
   "id": "44d70e49d6838bd3",
   "outputs": [
    {
     "name": "stdout",
     "output_type": "stream",
     "text": [
      "[2.0, 1.0, 3.0]\n",
      "[3.0, -1.0, 1.0]\n",
      "[-1.0, 4.0, 2.0]\n"
     ]
    }
   ],
   "execution_count": 5
  },
  {
   "metadata": {},
   "cell_type": "markdown",
   "source": "2.5. Matrix-vector multiplication",
   "id": "a77a6e1343004eb2"
  },
  {
   "metadata": {
    "ExecuteTime": {
     "end_time": "2024-10-11T17:56:40.853443Z",
     "start_time": "2024-10-11T17:56:40.842100Z"
    }
   },
   "cell_type": "code",
   "source": [
    "def matrix_vector_multiplication(matrix, vector):\n",
    "    num_rows = len(matrix)\n",
    "    num_cols = len(matrix[0])\n",
    "    if num_cols != len(vector):\n",
    "        raise ValueError(\"Number of columns must be equal to the number of elements in vector.\")\n",
    "    result = []\n",
    "    for i in range(num_rows):\n",
    "        sum = 0.0\n",
    "        for j in range(num_cols):\n",
    "            sum += matrix[i][j] * vector[j]\n",
    "        result.append(sum)\n",
    "    return result\n",
    "\n",
    "\n",
    "print(matrix_vector_multiplication(A, B))\n",
    "        "
   ],
   "id": "e8f711dccc280080",
   "outputs": [
    {
     "name": "stdout",
     "output_type": "stream",
     "text": [
      "[21.0, 27.0, 35.0]\n"
     ]
    }
   ],
   "execution_count": 6
  },
  {
   "metadata": {},
   "cell_type": "markdown",
   "source": "3. Solving using Cramer’s Rule",
   "id": "35720d70f11321bf"
  },
  {
   "metadata": {
    "ExecuteTime": {
     "end_time": "2024-10-11T18:21:48.001159Z",
     "start_time": "2024-10-11T18:21:47.992296Z"
    }
   },
   "cell_type": "code",
   "source": [
    "def replace_column(matrix, vector, column):\n",
    "    new_matrix = []\n",
    "    for i in range(len(matrix)):\n",
    "        new_row = matrix[i].copy()\n",
    "        new_row[column] = vector[i]\n",
    "        new_matrix.append(new_row)\n",
    "    return new_matrix\n",
    "\n",
    "def solve_cramers_rule(matrix,vector):\n",
    "    determinant = determinant_3X3(matrix)\n",
    "    if determinant == 0:\n",
    "        raise ValueError(\"The system has no unique solution (determinant is zero).\")\n",
    "    matrix_x =replace_column(matrix, vector, 0)\n",
    "    matrix_y = replace_column(matrix, vector, 1)\n",
    "    matrix_z = replace_column(matrix, vector, 2)\n",
    "    \n",
    "    det_matrix_x = determinant_3X3(matrix_x)\n",
    "    det_matrix_y = determinant_3X3(matrix_y)\n",
    "    det_matrix_z = determinant_3X3(matrix_z)\n",
    "    \n",
    "    x = det_matrix_x / determinant\n",
    "    y = det_matrix_y / determinant\n",
    "    z = det_matrix_z / determinant\n",
    "    \n",
    "    return {'x': x, 'y': y, 'z': z}\n",
    "\n",
    "solutions = solve_cramers_rule(A, B)\n",
    "print(\"\\nSolutions using Cramer's Rule:\")\n",
    "print(f\"x = {solutions['x']}\")\n",
    "print(f\"y = {solutions['y']}\")\n",
    "print(f\"z = {solutions['z']}\")\n"
   ],
   "id": "be4edc4bc8c81912",
   "outputs": [
    {
     "name": "stdout",
     "output_type": "stream",
     "text": [
      "\n",
      "Solutions using Cramer's Rule:\n",
      "x = 0.35714285714285715\n",
      "y = 2.0714285714285716\n",
      "z = 1.9285714285714286\n"
     ]
    }
   ],
   "execution_count": 10
  },
  {
   "metadata": {},
   "cell_type": "markdown",
   "source": "4. Solving using Inversion",
   "id": "2d479b3d130ec87e"
  },
  {
   "metadata": {
    "ExecuteTime": {
     "end_time": "2024-10-11T17:56:47.652480Z",
     "start_time": "2024-10-11T17:56:47.631974Z"
    }
   },
   "cell_type": "code",
   "source": [
    "def get_minor(matrix, i, j):\n",
    "    minor = [row[:j] + row[j+1:] for idx, row in enumerate(matrix) if idx!=i]\n",
    "    return minor\n",
    "\n",
    "def determinant_2x2(matrix):\n",
    "    if len(matrix) != 2 or any(len(row) != 2 for row in matrix):\n",
    "        raise ValueError(\"The minor matrix must be 2x2.\")\n",
    "    a, b = matrix[0]\n",
    "    c, d = matrix[1]\n",
    "    return a * d - b * c\n",
    "\n",
    "\n",
    "def cofactor_matrix(matrix):\n",
    "    cof_matrix = []\n",
    "    for i in range(len(matrix)):\n",
    "        cof_row =[]\n",
    "        for j in range(len(matrix[0])):\n",
    "            minor = get_minor(matrix, i, j)\n",
    "            det_minor = determinant_2x2(minor)\n",
    "            cof = ((-1) ** (i+j)) * det_minor\n",
    "            cof_row.append(cof)\n",
    "        cof_matrix.append(cof_row)\n",
    "    return cof_matrix\n",
    "\n",
    "\n",
    "def adjugate_matrix(matrix):\n",
    "    cof_matrix = cofactor_matrix(matrix)\n",
    "    adjugate_matrix = transpose_of_matrix(cof_matrix)\n",
    "    return adjugate_matrix\n",
    "\n",
    "\n",
    "def inverse_matrix(matrix):\n",
    "    determinant = determinant_3X3(matrix)\n",
    "    if determinant == 0:\n",
    "        raise ValueError(\"Matrix is singular and cannot be inverted.\")\n",
    "    adjugate = adjugate_matrix(matrix)\n",
    "    inverse=[]\n",
    "    for row in adjugate:\n",
    "        inverse_row = []\n",
    "        for element in row:\n",
    "            inverse_row.append(element/determinant)\n",
    "        inverse.append(inverse_row)\n",
    "    return inverse\n",
    "\n",
    "\n",
    "def solve_using_inverse_matrix(matrix, vector):\n",
    "    inverse = inverse_matrix(matrix)\n",
    "    x = matrix_vector_multiplication(inverse, vector)\n",
    "    return x\n",
    "    \n",
    "\n",
    "\n",
    "solutions_inverse = solve_using_inverse_matrix(A, B)\n",
    "print(\"\\nSolutions using Matrix Inversion:\")\n",
    "print(f\"x = {solutions_inverse[0]}\")\n",
    "print(f\"y = {solutions_inverse[1]}\")\n",
    "print(f\"z = {solutions_inverse[2]}\")"
   ],
   "id": "d1740cab20364fa2",
   "outputs": [
    {
     "name": "stdout",
     "output_type": "stream",
     "text": [
      "\n",
      "Solutions using Matrix Inversion:\n",
      "x = 0.35714285714285765\n",
      "y = 2.071428571428571\n",
      "z = 1.9285714285714288\n"
     ]
    }
   ],
   "execution_count": 8
  }
 ],
 "metadata": {
  "kernelspec": {
   "display_name": "Python 3",
   "language": "python",
   "name": "python3"
  },
  "language_info": {
   "codemirror_mode": {
    "name": "ipython",
    "version": 2
   },
   "file_extension": ".py",
   "mimetype": "text/x-python",
   "name": "python",
   "nbconvert_exporter": "python",
   "pygments_lexer": "ipython2",
   "version": "2.7.6"
  }
 },
 "nbformat": 4,
 "nbformat_minor": 5
}
